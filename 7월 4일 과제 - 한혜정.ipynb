{
 "cells": [
  {
   "cell_type": "markdown",
   "metadata": {},
   "source": [
    "# 제출자: 한혜정"
   ]
  },
  {
   "cell_type": "markdown",
   "metadata": {},
   "source": [
    "github address: "
   ]
  },
  {
   "cell_type": "markdown",
   "metadata": {},
   "source": [
    "---"
   ]
  },
  {
   "cell_type": "markdown",
   "metadata": {},
   "source": [
    "# 61"
   ]
  },
  {
   "cell_type": "code",
   "execution_count": 38,
   "metadata": {},
   "outputs": [
    {
     "name": "stdout",
     "output_type": "stream",
     "text": [
      "0\n",
      "Exception occured Nothing to compute\n",
      "1\n",
      "2\n",
      "3\n",
      "4\n",
      "5\n",
      "0\n",
      "3.0\n"
     ]
    }
   ],
   "source": [
    "n=0\n",
    "t = 0\n",
    "while True:\n",
    "    try:\n",
    "        i = int(input())\n",
    "        if n==0 and i==0:\n",
    "            raise Exception('Nothing to compute')\n",
    "        elif i==0 and n!=0:\n",
    "            print(t/n)\n",
    "            break\n",
    "        else:\n",
    "            t+=i\n",
    "            n+=1\n",
    "    except Exception as e:\n",
    "        print('Exception occured', e)\n",
    "else:\n",
    "    print(t/n)"
   ]
  },
  {
   "cell_type": "markdown",
   "metadata": {},
   "source": [
    "# 63"
   ]
  },
  {
   "cell_type": "code",
   "execution_count": 10,
   "metadata": {
    "scrolled": true
   },
   "outputs": [
    {
     "name": "stdout",
     "output_type": "stream",
     "text": [
      "    celsius  fahrenheit\n",
      "0         0          32\n",
      "1        10          50\n",
      "2        20          68\n",
      "3        30          86\n",
      "4        40         104\n",
      "5        50         122\n",
      "6        60         140\n",
      "7        70         158\n",
      "8        80         176\n",
      "9        90         194\n",
      "10      100         212\n"
     ]
    }
   ],
   "source": [
    "from pandas import Series, DataFrame\n",
    "\n",
    "cel = list(range(0,101,10))\n",
    "fah = [int(i * 1.8 +32) for i in cel]\n",
    "d = {'celsius': cel, 'fahrenheit': fah}\n",
    "data = DataFrame(d)\n",
    "print(data)"
   ]
  },
  {
   "cell_type": "markdown",
   "metadata": {},
   "source": [
    "# 66"
   ]
  },
  {
   "cell_type": "code",
   "execution_count": 9,
   "metadata": {},
   "outputs": [
    {
     "name": "stdout",
     "output_type": "stream",
     "text": [
      "A\n",
      "C+\n",
      "B\n",
      "\n",
      "3.1\n"
     ]
    }
   ],
   "source": [
    "dic = {'A+':4.0, 'A': 4.0, 'A-':3.7, 'B+':3.3, 'B':3.0, 'B-':2.7, 'C+':2.3, 'C':2.0, 'C-':1.7, 'D+':1.3, 'D':1.0, 'F':0}\n",
    "n=0\n",
    "result = 0\n",
    "while True:\n",
    "    i = input()\n",
    "    if not i:\n",
    "        print(result/n)\n",
    "        break\n",
    "    else:\n",
    "        result += dic.get(i)\n",
    "        n += 1"
   ]
  },
  {
   "cell_type": "markdown",
   "metadata": {},
   "source": [
    "# 67"
   ]
  },
  {
   "cell_type": "code",
   "execution_count": 18,
   "metadata": {},
   "outputs": [
    {
     "name": "stdout",
     "output_type": "stream",
     "text": [
      "43\n",
      "78\n",
      "1\n",
      "34\n",
      "\n",
      "The total cost is $78.00\n"
     ]
    }
   ],
   "source": [
    "age = 0\n",
    "def cost(a):\n",
    "    if a<=2:\n",
    "        return 14.00\n",
    "    elif a>=65:\n",
    "        return 18.00\n",
    "    else:\n",
    "        return 23.00\n",
    "\n",
    "tc = 0\n",
    "while True:\n",
    "    age = input()\n",
    "    if not age:\n",
    "        print(\"The total cost is $%.2f\" % tc)\n",
    "        break\n",
    "    else:\n",
    "        tc += cost(int(age))"
   ]
  },
  {
   "cell_type": "markdown",
   "metadata": {},
   "source": [
    "# 72"
   ]
  },
  {
   "cell_type": "code",
   "execution_count": 20,
   "metadata": {},
   "outputs": [
    {
     "name": "stdout",
     "output_type": "stream",
     "text": [
      "annie\n",
      "annie is not a palindrome\n"
     ]
    }
   ],
   "source": [
    "def palindrome(st):\n",
    "    lenstr = len(st)\n",
    "    for i in range(int(lenstr/2)):\n",
    "        if st[i] != st[lenstr-1-i]:\n",
    "            return False\n",
    "    else:\n",
    "        return True\n",
    "\n",
    "s = input()\n",
    "if palindrome(s):\n",
    "    print(\"%s is a palindrome\" % s)\n",
    "else:\n",
    "    print(\"%s is not a palindrome\" % s)"
   ]
  },
  {
   "cell_type": "markdown",
   "metadata": {},
   "source": [
    "# 74"
   ]
  },
  {
   "cell_type": "code",
   "execution_count": 32,
   "metadata": {},
   "outputs": [
    {
     "ename": "TypeError",
     "evalue": "unsupported operand type(s) for *: 'range' and 'range'",
     "output_type": "error",
     "traceback": [
      "\u001b[0;31m---------------------------------------------------------------------------\u001b[0m",
      "\u001b[0;31mTypeError\u001b[0m                                 Traceback (most recent call last)",
      "\u001b[0;32m<ipython-input-32-c8991b47a33f>\u001b[0m in \u001b[0;36m<module>\u001b[0;34m()\u001b[0m\n\u001b[1;32m      1\u001b[0m \u001b[0;32mfrom\u001b[0m \u001b[0mpandas\u001b[0m \u001b[0;32mimport\u001b[0m \u001b[0mSeries\u001b[0m\u001b[0;34m,\u001b[0m \u001b[0mDataFrame\u001b[0m\u001b[0;34m\u001b[0m\u001b[0m\n\u001b[1;32m      2\u001b[0m \u001b[0mnum\u001b[0m \u001b[0;34m=\u001b[0m \u001b[0mrange\u001b[0m\u001b[0;34m(\u001b[0m\u001b[0;36m0\u001b[0m\u001b[0;34m,\u001b[0m\u001b[0;36m11\u001b[0m\u001b[0;34m)\u001b[0m\u001b[0;34m\u001b[0m\u001b[0m\n\u001b[0;32m----> 3\u001b[0;31m \u001b[0mt\u001b[0m \u001b[0;34m=\u001b[0m \u001b[0mDataFrame\u001b[0m\u001b[0;34m(\u001b[0m\u001b[0mnum\u001b[0m\u001b[0;34m*\u001b[0m\u001b[0mnum\u001b[0m\u001b[0;34m,\u001b[0m \u001b[0mnum\u001b[0m\u001b[0;34m,\u001b[0m \u001b[0mnum\u001b[0m\u001b[0;34m)\u001b[0m\u001b[0;34m\u001b[0m\u001b[0m\n\u001b[0m",
      "\u001b[0;31mTypeError\u001b[0m: unsupported operand type(s) for *: 'range' and 'range'"
     ]
    }
   ],
   "source": []
  },
  {
   "cell_type": "markdown",
   "metadata": {},
   "source": [
    "# 75"
   ]
  },
  {
   "cell_type": "code",
   "execution_count": 36,
   "metadata": {},
   "outputs": [
    {
     "name": "stdout",
     "output_type": "stream",
     "text": [
      "70\n",
      "34\n",
      "Greatest divisor of 70 and 34 is 2\n"
     ]
    }
   ],
   "source": [
    "n = int(input())\n",
    "m = int(input())\n",
    "d = m-1 if(n>=m) else n-1\n",
    "while n%d!=0 or m%d!=0:\n",
    "    d-=1\n",
    "else:\n",
    "    s = 'Greatest divisor of '+repr(n)+' and '+repr(m)+' is '+repr(d)\n",
    "    print(s)"
   ]
  },
  {
   "cell_type": "markdown",
   "metadata": {},
   "source": [
    "# 77"
   ]
  },
  {
   "cell_type": "code",
   "execution_count": 22,
   "metadata": {},
   "outputs": [
    {
     "name": "stdout",
     "output_type": "stream",
     "text": [
      "111\n",
      "decimal number of your binary number is 7\n"
     ]
    }
   ],
   "source": [
    "bi = input()\n",
    "bilen = len(bi)\n",
    "de = 0\n",
    "for i in range(bilen):\n",
    "    de += int(bi[i])*(2**i)\n",
    "else:\n",
    "    print(\"decimal number of your binary number is %d\" % de)"
   ]
  },
  {
   "cell_type": "markdown",
   "metadata": {},
   "source": [
    "# 78"
   ]
  },
  {
   "cell_type": "code",
   "execution_count": 31,
   "metadata": {},
   "outputs": [
    {
     "name": "stdout",
     "output_type": "stream",
     "text": [
      "6\n",
      "binary number of your decimal number is 110\n"
     ]
    }
   ],
   "source": [
    "result = str()\n",
    "q = int(input())\n",
    "\n",
    "while q!=0:\n",
    "    r = q % 2\n",
    "    result += str(r)\n",
    "    q//=2\n",
    "else:\n",
    "    print(\"binary number of your decimal number is %s\" % result[::-1])"
   ]
  }
 ],
 "metadata": {
  "kernelspec": {
   "display_name": "Python 3",
   "language": "python",
   "name": "python3"
  },
  "language_info": {
   "codemirror_mode": {
    "name": "ipython",
    "version": 3
   },
   "file_extension": ".py",
   "mimetype": "text/x-python",
   "name": "python",
   "nbconvert_exporter": "python",
   "pygments_lexer": "ipython3",
   "version": "3.6.5"
  }
 },
 "nbformat": 4,
 "nbformat_minor": 2
}
