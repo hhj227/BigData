{
 "cells": [
  {
   "cell_type": "markdown",
   "metadata": {},
   "source": [
    "# 제출자: 한혜정"
   ]
  },
  {
   "cell_type": "markdown",
   "metadata": {},
   "source": [
    "---"
   ]
  },
  {
   "cell_type": "markdown",
   "metadata": {},
   "source": [
    "# EASY"
   ]
  },
  {
   "cell_type": "markdown",
   "metadata": {},
   "source": [
    "# 82"
   ]
  },
  {
   "cell_type": "code",
   "execution_count": 1,
   "metadata": {},
   "outputs": [
    {
     "name": "stdout",
     "output_type": "stream",
     "text": [
      "30\n",
      "Total fare is  57.5\n"
     ]
    }
   ],
   "source": [
    "def taxi_fare(kilo):\n",
    "    cost = 4.00\n",
    "    cost+=0.25*int(kilo/0.14)\n",
    "    return cost\n",
    "\n",
    "i = int(input())\n",
    "print('Total fare is ', taxi_fare(i))"
   ]
  },
  {
   "cell_type": "markdown",
   "metadata": {},
   "source": [
    "# 84"
   ]
  },
  {
   "cell_type": "code",
   "execution_count": 14,
   "metadata": {},
   "outputs": [
    {
     "name": "stdout",
     "output_type": "stream",
     "text": [
      "3\n",
      "5\n",
      "4\n",
      "median value of  3  and  5  and 4  is  4\n"
     ]
    }
   ],
   "source": [
    "def median(a,b,c):\n",
    "    l = [a,b,c]\n",
    "    l.sort()\n",
    "    return l[1]\n",
    "i = int(input())\n",
    "j = int(input())\n",
    "k = int(input())\n",
    "print('median value of ', i,' and ', j,' and' , k,' is ', median(i,j,k))"
   ]
  },
  {
   "cell_type": "markdown",
   "metadata": {},
   "source": [
    "# 85"
   ]
  },
  {
   "cell_type": "code",
   "execution_count": 6,
   "metadata": {},
   "outputs": [
    {
     "name": "stdout",
     "output_type": "stream",
     "text": [
      "1 first\n",
      "2 second\n",
      "3 third\n",
      "4 fourth\n",
      "5 fifth\n",
      "6 sixth\n",
      "7 seventh\n",
      "8 eighth\n",
      "9 ninth\n",
      "10 tenth\n",
      "11 eleventh\n",
      "12 twelveth\n"
     ]
    }
   ],
   "source": [
    "num = {'1':'first', '2':'second', '3':'third', '4':'fourth', '5':'fifth', '6':'sixth', '7':'seventh', '8':'eighth', '9':'ninth', '10':'tenth', '11':'eleventh', '12':'twelveth'}\n",
    "def eng_num(n):\n",
    "    if 1<=int(n)<=12:\n",
    "        return num.get(n)\n",
    "    else:\n",
    "        return \"\"\n",
    "\n",
    "for i in range(1,13):\n",
    "    print(i, eng_num(str(i)))"
   ]
  },
  {
   "cell_type": "markdown",
   "metadata": {},
   "source": [
    "# 88"
   ]
  },
  {
   "cell_type": "code",
   "execution_count": 7,
   "metadata": {},
   "outputs": [
    {
     "name": "stdout",
     "output_type": "stream",
     "text": [
      "6\n",
      "2\n",
      "2\n",
      "not able to form triangle\n"
     ]
    }
   ],
   "source": [
    "def tri(a,b,c):\n",
    "    m = max(a,b,c)\n",
    "    if m>=a+b+c-m:\n",
    "        return False\n",
    "    else:\n",
    "        return True\n",
    "\n",
    "i = int(input())\n",
    "j = int(input())\n",
    "k = int(input())\n",
    "if tri(i,j,k):\n",
    "    print('able to form triangle')\n",
    "else:\n",
    "    print('not able to form triangle')"
   ]
  },
  {
   "cell_type": "markdown",
   "metadata": {},
   "source": [
    "# 92"
   ]
  },
  {
   "cell_type": "code",
   "execution_count": 9,
   "metadata": {},
   "outputs": [
    {
     "name": "stdout",
     "output_type": "stream",
     "text": [
      "5\n",
      "5  is a prime number\n"
     ]
    }
   ],
   "source": [
    "def prime(n):\n",
    "    if n==2:\n",
    "        return True\n",
    "    else:\n",
    "        for i in range(2,n//2+1):\n",
    "            if n%i==0:\n",
    "                return False\n",
    "        return True\n",
    "\n",
    "j = int(input())\n",
    "if prime(j):\n",
    "    print(j, ' is a prime number')\n",
    "else:\n",
    "    print(j, ' is not a prime number')"
   ]
  },
  {
   "cell_type": "markdown",
   "metadata": {},
   "source": [
    "# ADVANCED"
   ]
  },
  {
   "cell_type": "markdown",
   "metadata": {},
   "source": [
    "# 86"
   ]
  },
  {
   "cell_type": "code",
   "execution_count": 26,
   "metadata": {},
   "outputs": [
    {
     "name": "stdout",
     "output_type": "stream",
     "text": [
      "On the first day of Christmas\n",
      "my true love sent to me:\n",
      "A partridge in a pear tree\n",
      "\n",
      "On the second day of Christmas\n",
      "my true love sent to me:\n",
      "Two turtle doves,\n",
      "And a partridge in a pear tree.\n",
      "\n",
      "On the third day of Christmas\n",
      "my true love sent to me:\n",
      "Three French hens,\n",
      "Two turtle doves,\n",
      "And a partridge in a pear tree.\n",
      "\n",
      "On the fourth day of Christmas\n",
      "my true love sent to me:\n",
      "Four calling birds,\n",
      "Three French hens,\n",
      "Two turtle doves,\n",
      "And a partridge in a pear tree.\n",
      "\n",
      "On the fifth day of Christmas\n",
      "my true love sent to me:\n",
      "Five golden rings,\n",
      "Four calling birds,\n",
      "Three French hens,\n",
      "Two turtle doves,\n",
      "And a partridge in a pear tree.\n",
      "\n",
      "On the sixth day of Christmas\n",
      "my true love sent to me:\n",
      "Six geese a-layin,\n",
      "Five golden rings,\n",
      "Four calling birds,\n",
      "Three French hens,\n",
      "Two turtle doves,\n",
      "And a partridge in a pear tree.\n",
      "\n",
      "On the seventh day of Christmas\n",
      "my true love sent to me:\n",
      "Seven swans a-swimmin,\n",
      "Six geese a-layin,\n",
      "Five golden rings,\n",
      "Four calling birds,\n",
      "Three French hens,\n",
      "Two turtle doves,\n",
      "And a partridge in a pear tree.\n",
      "\n",
      "On the eighth day of Christmas\n",
      "my true love sent to me:\n",
      "Eight maids milkin,\n",
      "Seven swans a-swimmin,\n",
      "Six geese a-layin,\n",
      "Five golden rings,\n",
      "Four calling birds,\n",
      "Three French hens,\n",
      "Two turtle doves,\n",
      "And a partridge in a pear tree.\n",
      "\n",
      "On the ninth day of Christmas\n",
      "my true love sent to me:\n",
      "Nine lords a-leapin,\n",
      "Eight maids milkin,\n",
      "Seven swans a-swimmin,\n",
      "Six geese a-layin,\n",
      "Five golden rings,\n",
      "Four calling birds,\n",
      "Three French hens,\n",
      "Two turtle doves,\n",
      "And a partridge in a pear tree.\n",
      "\n",
      "On the tenth day of Christmas\n",
      "my true love sent to me:\n",
      "Ten ladies dancin,\n",
      "Nine lords a-leapin,\n",
      "Eight maids milkin,\n",
      "Seven swans a-swimmin,\n",
      "Six geese a-layin,\n",
      "Five golden rings,\n",
      "Four calling birds,\n",
      "Three French hens,\n",
      "Two turtle doves,\n",
      "And a partridge in a pear tree.\n",
      "\n",
      "On the eleventh day of Christmas\n",
      "my true love sent to me:\n",
      "Eleven pipers pipin,\n",
      "Ten ladies dancin,\n",
      "Nine lords a-leapin,\n",
      "Eight maids milkin,\n",
      "Seven swans a-swimmin,\n",
      "Six geese a-layin,\n",
      "Five golden rings,\n",
      "Four calling birds,\n",
      "Three French hens,\n",
      "Two turtle doves,\n",
      "And a partridge in a pear tree.\n",
      "\n",
      "On the twelveth day of Christmas\n",
      "my true love sent to me:\n",
      "Twelve drummers drummin,\n",
      "Eleven pipers pipin,\n",
      "Ten ladies dancin,\n",
      "Nine lords a-leapin,\n",
      "Eight maids milkin,\n",
      "Seven swans a-swimmin,\n",
      "Six geese a-layin,\n",
      "Five golden rings,\n",
      "Four calling birds,\n",
      "Three French hens,\n",
      "Two turtle doves,\n",
      "And a partridge in a pear tree.\n",
      "\n"
     ]
    }
   ],
   "source": [
    "l = ['A partridge in a pear tree', 'Two turtle doves', 'Three French hens', 'Four calling birds', 'Five golden rings', 'Six geese a-layin', 'Seven swans a-swimmin', \n",
    "     'Eight maids milkin', 'Nine lords a-leapin', 'Ten ladies dancin', 'Eleven pipers pipin', 'Twelve drummers drummin' ]\n",
    "num = {'1':'first', '2':'second', '3':'third', '4':'fourth', '5':'fifth', '6':'sixth', '7':'seventh', '8':'eighth', '9':'ninth', '10':'tenth', '11':'eleventh', '12':'twelveth'}\n",
    "def lyrics(verse):\n",
    "    print('On the', num.get(str(verse)), 'day of Christmas')\n",
    "    print('my true love sent to me:')\n",
    "    if verse==1:\n",
    "        print(l[0])\n",
    "    else:\n",
    "        for i in range(0,verse):\n",
    "            if i==verse-1:\n",
    "                print('And a', l[0][2:]+'.')\n",
    "            else:\n",
    "                print(l[verse-i-1]+',')\n",
    "\n",
    "for j in range(1,13):\n",
    "    lyrics(j)\n",
    "    print('')"
   ]
  },
  {
   "cell_type": "markdown",
   "metadata": {},
   "source": [
    "# 89"
   ]
  },
  {
   "cell_type": "code",
   "execution_count": 28,
   "metadata": {},
   "outputs": [
    {
     "name": "stdout",
     "output_type": "stream",
     "text": [
      "what time do i have to be there? what’s the address?\n"
     ]
    },
    {
     "ename": "TypeError",
     "evalue": "list indices must be integers or slices, not str",
     "output_type": "error",
     "traceback": [
      "\u001b[0;31m---------------------------------------------------------------------------\u001b[0m",
      "\u001b[0;31mTypeError\u001b[0m                                 Traceback (most recent call last)",
      "\u001b[0;32m<ipython-input-28-9d28e4257b0e>\u001b[0m in \u001b[0;36m<module>\u001b[0;34m()\u001b[0m\n\u001b[1;32m      9\u001b[0m \u001b[0;34m\u001b[0m\u001b[0m\n\u001b[1;32m     10\u001b[0m \u001b[0mst\u001b[0m \u001b[0;34m=\u001b[0m \u001b[0minput\u001b[0m\u001b[0;34m(\u001b[0m\u001b[0;34m)\u001b[0m\u001b[0;34m\u001b[0m\u001b[0m\n\u001b[0;32m---> 11\u001b[0;31m \u001b[0mprint\u001b[0m\u001b[0;34m(\u001b[0m\u001b[0mcap\u001b[0m\u001b[0;34m(\u001b[0m\u001b[0mst\u001b[0m\u001b[0;34m)\u001b[0m\u001b[0;34m)\u001b[0m\u001b[0;34m\u001b[0m\u001b[0m\n\u001b[0m",
      "\u001b[0;32m<ipython-input-28-9d28e4257b0e>\u001b[0m in \u001b[0;36mcap\u001b[0;34m(s)\u001b[0m\n\u001b[1;32m      3\u001b[0m     \u001b[0ml\u001b[0m\u001b[0;34m[\u001b[0m\u001b[0;36m0\u001b[0m\u001b[0;34m]\u001b[0m\u001b[0;34m[\u001b[0m\u001b[0;34m:\u001b[0m\u001b[0;36m1\u001b[0m\u001b[0;34m]\u001b[0m\u001b[0;34m.\u001b[0m\u001b[0mupper\u001b[0m\u001b[0;34m(\u001b[0m\u001b[0;34m)\u001b[0m\u001b[0;34m\u001b[0m\u001b[0m\n\u001b[1;32m      4\u001b[0m     \u001b[0;32mfor\u001b[0m \u001b[0mi\u001b[0m \u001b[0;32min\u001b[0m \u001b[0ml\u001b[0m\u001b[0;34m:\u001b[0m\u001b[0;34m\u001b[0m\u001b[0m\n\u001b[0;32m----> 5\u001b[0;31m         \u001b[0;32mif\u001b[0m \u001b[0ml\u001b[0m\u001b[0;34m[\u001b[0m\u001b[0mi\u001b[0m\u001b[0;34m]\u001b[0m \u001b[0;34m==\u001b[0m \u001b[0;34m'i'\u001b[0m\u001b[0;34m:\u001b[0m\u001b[0;34m\u001b[0m\u001b[0m\n\u001b[0m\u001b[1;32m      6\u001b[0m             \u001b[0ml\u001b[0m\u001b[0;34m[\u001b[0m\u001b[0mi\u001b[0m\u001b[0;34m]\u001b[0m\u001b[0;34m.\u001b[0m\u001b[0mupper\u001b[0m\u001b[0;34m(\u001b[0m\u001b[0;34m)\u001b[0m\u001b[0;34m\u001b[0m\u001b[0m\n\u001b[1;32m      7\u001b[0m         \u001b[0;32mif\u001b[0m \u001b[0;34m(\u001b[0m\u001b[0mi\u001b[0m \u001b[0;32mis\u001b[0m \u001b[0;32mnot\u001b[0m \u001b[0mlen\u001b[0m\u001b[0;34m(\u001b[0m\u001b[0ml\u001b[0m\u001b[0;34m)\u001b[0m\u001b[0;34m-\u001b[0m\u001b[0;36m1\u001b[0m\u001b[0;34m)\u001b[0m \u001b[0;32mand\u001b[0m \u001b[0;34m(\u001b[0m\u001b[0ml\u001b[0m\u001b[0;34m[\u001b[0m\u001b[0mi\u001b[0m\u001b[0;34m]\u001b[0m\u001b[0;34m[\u001b[0m\u001b[0;34m:\u001b[0m\u001b[0;34m-\u001b[0m\u001b[0;36m1\u001b[0m\u001b[0;34m]\u001b[0m \u001b[0;34m==\u001b[0m \u001b[0;34m'.'\u001b[0m \u001b[0;32mor\u001b[0m \u001b[0;34m'?'\u001b[0m \u001b[0;32mor\u001b[0m \u001b[0;34m'!'\u001b[0m\u001b[0;34m)\u001b[0m\u001b[0;34m:\u001b[0m\u001b[0;34m\u001b[0m\u001b[0m\n",
      "\u001b[0;31mTypeError\u001b[0m: list indices must be integers or slices, not str"
     ]
    }
   ],
   "source": [
    "def cap(s):\n",
    "    l = s.split(' ')\n",
    "    l[0][:1].upper()\n",
    "    for i in l:\n",
    "        if l[i] == 'i':\n",
    "            l[i].upper()\n",
    "        if (i is not len(l)-1) and (l[i][:-1] == '.' or '?' or '!'):\n",
    "            l[i+1][:1].upper()\n",
    "\n",
    "st = input()\n",
    "print(cap(st))\n"
   ]
  },
  {
   "cell_type": "code",
   "execution_count": null,
   "metadata": {},
   "outputs": [],
   "source": []
  }
 ],
 "metadata": {
  "kernelspec": {
   "display_name": "Python 3",
   "language": "python",
   "name": "python3"
  },
  "language_info": {
   "codemirror_mode": {
    "name": "ipython",
    "version": 3
   },
   "file_extension": ".py",
   "mimetype": "text/x-python",
   "name": "python",
   "nbconvert_exporter": "python",
   "pygments_lexer": "ipython3",
   "version": "3.6.5"
  }
 },
 "nbformat": 4,
 "nbformat_minor": 2
}
