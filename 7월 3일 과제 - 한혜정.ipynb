{
 "cells": [
  {
   "cell_type": "markdown",
   "metadata": {},
   "source": [
    "# 제출자: 한혜정"
   ]
  },
  {
   "cell_type": "markdown",
   "metadata": {},
   "source": [
    "---"
   ]
  },
  {
   "cell_type": "markdown",
   "metadata": {},
   "source": [
    "# 105"
   ]
  },
  {
   "cell_type": "code",
   "execution_count": 1,
   "metadata": {},
   "outputs": [
    {
     "name": "stdout",
     "output_type": "stream",
     "text": [
      "4\n",
      "5\n",
      "8\n",
      "3\n",
      "6\n",
      "0\n",
      "\n",
      "\n",
      "result:\n",
      "8\n",
      "6\n",
      "5\n",
      "4\n",
      "3\n"
     ]
    }
   ],
   "source": [
    "l = []\n",
    "while True:\n",
    "    i = input()\n",
    "    b = int(i)\n",
    "    if b == 0:\n",
    "        print('\\n')\n",
    "        print('result:')\n",
    "        l.sort(reverse=True)\n",
    "        print(*l, sep = \"\\n\")\n",
    "        break\n",
    "    l.append(b)\n",
    "else:\n",
    "    print('end')"
   ]
  },
  {
   "cell_type": "markdown",
   "metadata": {},
   "source": [
    "# 107"
   ]
  },
  {
   "cell_type": "code",
   "execution_count": 2,
   "metadata": {},
   "outputs": [
    {
     "name": "stdout",
     "output_type": "stream",
     "text": [
      "first\n",
      "second\n",
      "first\n",
      "third\n",
      "second\n",
      "\n",
      "result: \n",
      "first\n",
      "second\n",
      "third\n"
     ]
    }
   ],
   "source": [
    "l = []\n",
    "def Remove(duplicate):\n",
    "    final_list = []\n",
    "    for num in duplicate:\n",
    "        if num not in final_list:\n",
    "            final_list.append(num)\n",
    "    return final_list\n",
    "\n",
    "while True:\n",
    "    i = input()\n",
    "    if not i:\n",
    "        print('result: ')\n",
    "        print(*Remove(l), sep = '\\n')\n",
    "        break\n",
    "    l.append(i)"
   ]
  },
  {
   "cell_type": "markdown",
   "metadata": {},
   "source": [
    "# 108"
   ]
  },
  {
   "cell_type": "code",
   "execution_count": 3,
   "metadata": {},
   "outputs": [
    {
     "name": "stdout",
     "output_type": "stream",
     "text": [
      "3\n",
      "-4\n",
      "1\n",
      "0\n",
      "-1\n",
      "0\n",
      "-2\n",
      "\n",
      "-4\n",
      "-1\n",
      "-2\n",
      "0\n",
      "0\n",
      "3\n",
      "1\n"
     ]
    }
   ],
   "source": [
    "l = []\n",
    "while True:\n",
    "    i = input()\n",
    "    if not i:\n",
    "        for num1 in l:\n",
    "            if num1<'0':\n",
    "                print(num1, sep='\\n')\n",
    "        for num2 in l:\n",
    "            if num2=='0':\n",
    "                print(num2, sep='\\n')\n",
    "        for num3 in l:\n",
    "            if num3>'0':\n",
    "                print(num3, sep='\\n')\n",
    "        break\n",
    "    l.append(i)"
   ]
  },
  {
   "cell_type": "markdown",
   "metadata": {},
   "source": [
    "# 110"
   ]
  },
  {
   "cell_type": "code",
   "execution_count": 4,
   "metadata": {},
   "outputs": [
    {
     "name": "stdout",
     "output_type": "stream",
     "text": [
      "6\n",
      "28\n",
      "496\n",
      "8128\n"
     ]
    }
   ],
   "source": [
    "def perfect(num):\n",
    "    s = 0\n",
    "    for i in range(1, num):\n",
    "        if num % i ==0:\n",
    "            s += i\n",
    "    if s == num:\n",
    "        return True\n",
    "    else:\n",
    "        return False\n",
    "\n",
    "k=1\n",
    "while k<10001:\n",
    "    if perfect(k):\n",
    "        print(k, sep='\\n')\n",
    "    k+=1"
   ]
  },
  {
   "cell_type": "markdown",
   "metadata": {},
   "source": [
    "# 113"
   ]
  },
  {
   "cell_type": "code",
   "execution_count": 5,
   "metadata": {},
   "outputs": [
    {
     "name": "stdout",
     "output_type": "stream",
     "text": [
      "apples\n",
      "oranges\n",
      "bananas\n",
      "lemons\n",
      "\n",
      "apples, oranges, bananas and lemons"
     ]
    }
   ],
   "source": [
    "import sys\n",
    "\n",
    "def eng(items):\n",
    "    sys.stdout.write(items[0])\n",
    "    if len(items) > 1:\n",
    "        for j in range(1,len(items)-1):\n",
    "            if(j == len(items)-2):\n",
    "                sys.stdout.write(\" and \")\n",
    "                sys.stdout.write(items[len(items)-2])\n",
    "            else:\n",
    "                sys.stdout.write(\", \")\n",
    "                sys.stdout.write(items[j])\n",
    "\n",
    "l = []\n",
    "while True:\n",
    "    i = input()\n",
    "    l.append(i)\n",
    "    if not i:\n",
    "        eng(l)\n",
    "        break"
   ]
  },
  {
   "cell_type": "markdown",
   "metadata": {},
   "source": [
    "# 114"
   ]
  },
  {
   "cell_type": "code",
   "execution_count": 6,
   "metadata": {},
   "outputs": [
    {
     "name": "stdout",
     "output_type": "stream",
     "text": [
      "[9, 24, 29, 39, 40, 46]\n"
     ]
    }
   ],
   "source": [
    "import random\n",
    "\n",
    "l = []\n",
    "n = 0\n",
    "while len(l)<6:\n",
    "    n = random.randrange(1,50)\n",
    "    if n not in l:\n",
    "        l.append(n)\n",
    "l.sort()\n",
    "print(l)"
   ]
  },
  {
   "cell_type": "markdown",
   "metadata": {},
   "source": [
    "# 134"
   ]
  },
  {
   "cell_type": "code",
   "execution_count": 7,
   "metadata": {},
   "outputs": [
    {
     "name": "stdout",
     "output_type": "stream",
     "text": [
      "Hello, World!\n",
      "10\n"
     ]
    }
   ],
   "source": [
    "i = input()\n",
    "d = set(i)\n",
    "print(len(d))"
   ]
  },
  {
   "cell_type": "markdown",
   "metadata": {},
   "source": [
    "# 135"
   ]
  },
  {
   "cell_type": "code",
   "execution_count": 8,
   "metadata": {},
   "outputs": [
    {
     "name": "stdout",
     "output_type": "stream",
     "text": [
      "evil\n",
      "live\n",
      "anagram\n"
     ]
    }
   ],
   "source": [
    "i = input()\n",
    "j = input()\n",
    "dic1 = {}\n",
    "dic2 = {}\n",
    "for ch1 in i:\n",
    "    dic1[ch1] = dic1.get(ch1, 0) + 1\n",
    "for ch2 in j:\n",
    "    dic2[ch2] = dic2.get(ch2, 0) + 1\n",
    "if dic1==dic2:\n",
    "    print('anagram')\n",
    "else:\n",
    "    print('not anagram')"
   ]
  }
 ],
 "metadata": {
  "kernelspec": {
   "display_name": "Python 3",
   "language": "python",
   "name": "python3"
  },
  "language_info": {
   "codemirror_mode": {
    "name": "ipython",
    "version": 3
   },
   "file_extension": ".py",
   "mimetype": "text/x-python",
   "name": "python",
   "nbconvert_exporter": "python",
   "pygments_lexer": "ipython3",
   "version": "3.6.5"
  }
 },
 "nbformat": 4,
 "nbformat_minor": 2
}
