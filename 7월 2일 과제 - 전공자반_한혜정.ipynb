{
 "cells": [
  {
   "cell_type": "markdown",
   "metadata": {},
   "source": [
    "# 7월 2일 과제\n",
    "\n",
    "## 배우고 싶은 것\n",
    "\n",
    "#### 빅데이터를 이용한 지능정보시스템 개발은 이번이 처음이라 이 수업에서 가르쳐주는 지식들을 최대한 흡수하는 것이 목적입니다. \n",
    "\n",
    "## 하고 싶은 프로젝트 주제\n",
    "\n",
    "#### - 검색 기록을 기반으로 사용자에게 알맞은 광고 디스플레이\n",
    " - 단순히 운동화를 많이 검색한 사람에게 운동화 상품을 광고로 내새우는게 아니라 어떤 운동을 하고, 왜 운동을 하는지 등 통합적인 상황을 추측해서 구매욕을 최대한 높이는 방향으로 상품을 선정하는 시스템\n",
    "\n",
    "#### - 웹 기반 공격 탐지 사이트\n",
    " - 사용자로부터 받는 SQL Injection 공격이나 XSS 공격, CSRF 공격 , DoS 공격 등을 빅데이터 기반으로 분석하여 자체적으로 공격을 필터링하는 사이트\n",
    " \n",
    "#### - 블로그 이웃 추천 시스템\n",
    "  - 최근에 블로그에 쓴 글에 나타난 키워드에 더 높은 비중을 두어 비슷한 관심사, 비슷한 환경, 비슷한 어휘 수준을 분석하고 그 중에서 이웃간 연결이 높은 인기가 있는 블로그 이웃을 추천해주는 시스템\n",
    "  \n",
    "#### - COPS (아동 음란물 유포 및 다운로드 검거 시스템) - 추적 우회에 대한 빅데이터 기반 검거 개선 방안\n",
    "\n",
    "#### - 창업 아이템 성공 확률 예측 시스템\n",
    "\n",
    "#### - 태풍 경로 예상"
   ]
  }
 ],
 "metadata": {
  "kernelspec": {
   "display_name": "Python 3",
   "language": "python",
   "name": "python3"
  },
  "language_info": {
   "codemirror_mode": {
    "name": "ipython",
    "version": 3
   },
   "file_extension": ".py",
   "mimetype": "text/x-python",
   "name": "python",
   "nbconvert_exporter": "python",
   "pygments_lexer": "ipython3",
   "version": "3.6.5"
  }
 },
 "nbformat": 4,
 "nbformat_minor": 2
}
